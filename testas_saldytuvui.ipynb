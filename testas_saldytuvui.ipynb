{
 "cells": [
  {
   "cell_type": "code",
   "execution_count": null,
   "metadata": {},
   "outputs": [],
   "source": []
  },
  {
   "cell_type": "code",
   "execution_count": 8,
   "metadata": {},
   "outputs": [
    {
     "name": "stdout",
     "output_type": "stream",
     "text": [
      "Saldytuve esantys produktai:\n",
      "Produktas       Kiekis    \n",
      "-------------------------\n",
      "apelsinai       1.5       \n",
      "bananai         2         \n",
      "mesa            3         \n",
      "pienas          0.9       \n"
     ]
    }
   ],
   "source": [
    "saldytuvas = {\n",
    "    \"apelsinai\": 1.5,\n",
    "    \"bananai\" : 2,\n",
    "    \"mesa\" : 3,\n",
    "    \"pienas\" : 0.9}\n",
    "meniu = \"\"\"\n",
    " 1 - pridėti naują produktą \n",
    " 2 - papildyti produkto kiekį\n",
    " 3 - ištraukti produktą nurodant kiekį\n",
    " 4 - peržiūrėti produktus\n",
    " 5 - ieškoti produktų \n",
    " 0 - išėjimas  \"\"\"\n",
    "while True:\n",
    "    pasirinkimas = input(\"Pasirinkite: \")\n",
    "    if pasirinkimas == \"0\":\n",
    "        break\n",
    "    elif pasirinkimas == \"1\":\n",
    "        produktas = input('Iveskite produkta: ')\n",
    "        kiekis = input('Iveskite kieki: ')\n",
    "        saldytuvas[produktas] = kiekis\n",
    "    elif pasirinkimas == \"2\":\n",
    "        pass\n",
    "    elif pasirinkimas == \"3\":\n",
    "        # Ištraukti produktą nurodant kiekį\n",
    "        produktas = input(\"Įveskite produkto pavadinimą, kurį norite ištraukti: \")\n",
    "        if produktas in saldytuvas:\n",
    "            kiekis = int(input(f\"Įveskite kiekį, kurį norite ištraukti (turimas kiekis: {saldytuvas[produktas]}): \"))\n",
    "            if kiekis <= saldytuvas[produktas]:\n",
    "                saldytuvas[produktas] -= kiekis\n",
    "                print(f\"{produktas} ištraukta {kiekis} vnt. Dabartinis kiekis: {saldytuvas[produktas]}\")\n",
    "            else:\n",
    "                print(\"Nepakankamas kiekis šaldytuve.\")\n",
    "        else:\n",
    "            print(f\"{produktas} nėra šaldytuve.\")\n",
    "    elif pasirinkimas == \"4\":\n",
    "         print(\"Saldytuve esantys produktai:\")\n",
    "         print(\"{:<15} {:<10}\".format(\"Produktas\", \"Kiekis\"))\n",
    "         print(\"-\" * 25)\n",
    "         for produktas, kiekis in saldytuvas.items():\n",
    "          print(\"{:<15} {:<10}\".format(produktas, kiekis))\n",
    "    elif pasirinkimas == \"5\":\n",
    "        pass\n"
   ]
  }
 ],
 "metadata": {
  "kernelspec": {
   "display_name": "venv",
   "language": "python",
   "name": "python3"
  },
  "language_info": {
   "codemirror_mode": {
    "name": "ipython",
    "version": 3
   },
   "file_extension": ".py",
   "mimetype": "text/x-python",
   "name": "python",
   "nbconvert_exporter": "python",
   "pygments_lexer": "ipython3",
   "version": "3.11.4"
  },
  "orig_nbformat": 4
 },
 "nbformat": 4,
 "nbformat_minor": 2
}
